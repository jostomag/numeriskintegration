{
 "cells": [
  {
   "cell_type": "markdown",
   "metadata": {},
   "source": [
    "# Arbetsbok:Simpsons Regel\n",
    "I den här arbetsboken kommer ni få en möjlighet att studera hur Simpsons Regel kan implementeras i Python och göra jämförelser med Trapetsregeln. Ni börjar att arbeta med uppgift 1-3 i kronologisk ordning, uppgift 4 är en extra uppgift som ni gör om det finns tid över. Lektionspasset avslutas med uppgift 5. Uppgift 1-2 är av samma karaktär som de uppgifter ni redan arbetat med i arbetsboken om Trapetsregeln. Därför tänk på att lägga mest fokus på uppgift 3. Under lektionen kommer grupparbetet avbrytas vid några tillfällen för helklassdiskussion. Även om ni samarbetar i grupp så ska alla använda sin egen dator med ett eget dokument. Det är dock bara en i gruppen som skickar in sitt dokument i slutet av lektionen.\n",
    "\n",
    "$\\rightarrow$ Glöm inte att köra även frågecellerna i slutet av varje uppgift!\n",
    "\n",
    "$\\rightarrow$ köra/run= ctr+enter, symbolen $\\rhd$| högst upp till vänster i varje ruta eller i verktysfältet.\n",
    "\n",
    "$\\rightarrow$ [Lista](https://www.tutorialspoint.com/python/index.htm) med vanliga kommandon i python.\n",
    "\n",
    "För att komma igång, starta med att köra cellen nedan $\\downarrow$\n"
   ]
  },
  {
   "cell_type": "code",
   "execution_count": 3,
   "metadata": {},
   "outputs": [
    {
     "name": "stdout",
     "output_type": "stream",
     "text": [
      "Hur många är ni i gruppen? 3\n",
      "Vilka är ni som ska arbeta tillsammans idag: Elev 1, Elev 2 och Elev 3\n",
      "\n",
      "\n",
      " Hoppas på ett gott samarbete: Elev 1, Elev 2 och Elev 3, nu är det bara att starta med uppgift 1\n"
     ]
    }
   ],
   "source": [
    "import time\n",
    "try:\n",
    "    utv[0]\n",
    "except NameError: \n",
    "    utv =[\"ej klar\",\"ej klar\"] \n",
    "    t0=time.time()\n",
    "    \n",
    "num=int(input(\"Hur många är ni i gruppen? \"))\n",
    "grupp=input(\"Vilka är ni som ska arbeta tillsammans idag: \")\n",
    "print(f\"\\n\\n Hoppas på ett gott samarbete: {grupp}, nu är det bara att starta med uppgift 1\")"
   ]
  },
  {
   "cell_type": "markdown",
   "metadata": {},
   "source": [
    "## uppgift 1: Kommentera koden\n",
    "\n",
    "I rutan nedan finns en okommenterad kod för hur man skulle kunna skriva en [definition](https://www.tutorialspoint.com/python/python_functions.htm) av Simpsons formel i Python.\n",
    "\n",
    "Ni ska, på samma sätt som i arbetsboken om Trapetsregeln, kommentera koden och beskriva vad de olika variablerna innebär. Ni kommenterar kod i python genom att använda symbolen #. När ni är klara ta ett skärmklipp av den kommenterade koden och klistra in i [Padlet Numerisk Integration](https://padlet.com/johanna_stode/t0r8wcdi2k026lx8). Tänk på att alla i gruppen ska kunna förklarar hur ni har tänkt.\n",
    "\n",
    "<br />\n",
    "<br /> \n",
    "\n",
    "\n",
    "Simpsons formel: \n",
    "\n",
    "$$ \\int_a^b f(x)\\,dx = \\text{S}(f;h) =\\frac{h}{3}\\left\\{ f(x_0) + 4\\sum_{i=1}^{n} f(x_{2i-1})+2\\sum_{i=1}^{n-1} f(x_{2i})+f(x_{2n})  \\right\\}$$\n",
    "\n",
    "<br /> \n"
   ]
  },
  {
   "cell_type": "code",
   "execution_count": 4,
   "metadata": {},
   "outputs": [],
   "source": [
    "def simpson(f, a, b, n):\n",
    " h = (b - a) /(2*n)\n",
    " s = f(a) + f(b)\n",
    " for i in range(1, 2*n,2):\n",
    "     s += 4 * f(a + i * h)\n",
    " for i in range(2, 2*n-1, 2):\n",
    "     s += 2 * f(a + i * h)\n",
    " return s * h / 3"
   ]
  },
  {
   "cell_type": "markdown",
   "metadata": {},
   "source": [
    "## uppgift 2a: Arbeta med ett eget exempel \n",
    "\n",
    "Vi har under lektionen talat om varför  $\\int_0^{\\frac{\\pi}{2}}\\sin^p x\\,dx$ eller  $\\int_0^{\\frac{\\pi}{2}}\\cos^p x\\,dx$ är lämpligt för numerisk integration och i arbetsboken om Trapetsregeln gjorde ni beräkningar med ett eget valt exempel. Ni ska nu fortsätta med det exemplet ni valt men göra beräkningarna för Simpsons formel.\n",
    "\n",
    "$\\rightarrow$ Genomför beräkningar (manuellt) för några olika värden på $n$ genom att använda Simpsons formel nedan. Använd gärna samma värden på $n$ som ni gjorde för Trapets regeln.\n",
    "<br /> <br /> <br /> \n",
    "<br /> <br /> \n",
    "\n",
    "\n",
    "\n",
    "$$ \\int_a^b f(x)\\,dx = \\text{S}(f;h) =\\frac{h}{3}\\left\\{ f(x_0) + 4\\sum_{i=1}^{n} f(x_{2i-1})+2\\sum_{i=1}^{n-1} f(x_{2i})+f(x_{2n}) \\right\\}$$\n",
    "\n",
    "$$ \\,\\,\\,\\,\\,\\,\\,\\,\\,\\, \\,\\,\\,\\,\\, \\,\\,\\,\\,\\, \\,\\,\\,\\,\\,\\,\\,\\,\\,\\, \\,\\,\\,\\,\\, \\,\\,\\,\\,\\, \\,\\,\\,\\,\\,\\,\\,\\,\\,\\, \\,\\,\\,\\,\\, \\,\\,\\,\\,\\, \\,\\,\\,\\,\\,\\,\\,\\,\\,\\, \\,\\,\\,\\,\\, \\,\\,\\,\\,\\, \\,\\,\\,\\,\\,\\,\\,\\,\\,\\, \\,  =\\frac{h}{3}\\left\\{(f(x_0)+4f(x_1))+4f(x_2)+\\cdots+2f(x_{2n-1})+4f(x_{2n-1})+f(x_n)\\right\\}$$\n",
    "<br /> \n",
    "\n",
    "\n",
    "\n",
    "\n",
    "\n"
   ]
  },
  {
   "cell_type": "markdown",
   "metadata": {},
   "source": [
    "Kör cellen nedan $\\downarrow$"
   ]
  },
  {
   "cell_type": "code",
   "execution_count": 6,
   "metadata": {},
   "outputs": [
    {
     "name": "stdout",
     "output_type": "stream",
     "text": [
      "Svar: Elevsvar\n"
     ]
    }
   ],
   "source": [
    "if utv[0]==\"ej klar\":\n",
    "    utv[0]= input(\"Vad är de huvudsakliga skillnaderna i att göra beräkningar med Simpsons formel i förhållande till Trapetsregeln: \")\n",
    "\n",
    "else :\n",
    "    print (f\"Svar: {utv[0]}\")"
   ]
  },
  {
   "cell_type": "markdown",
   "metadata": {},
   "source": [
    "## uppgift 2b: Arbeta med ett eget exempel\n",
    "\n",
    "Koden nedan är ett exempel på hur defintionen av Simpsons regel skulle kunna användas för att beräkna värdet av en integral. Skriv om koden så den beräknar värdet för den funktion ni valt."
   ]
  },
  {
   "cell_type": "code",
   "execution_count": 7,
   "metadata": {},
   "outputs": [
    {
     "name": "stdout",
     "output_type": "stream",
     "text": [
      "0.4571428571428575\n"
     ]
    }
   ],
   "source": [
    "import numpy as np\n",
    "#obs!tänk på att n är antal intervall dvs 2*n delintervall\n",
    "def simpson(f, a, b, n):\n",
    " h = (b - a) /(2*n)\n",
    " s = f(a) + f(b)\n",
    " for i in range(1, 2*n,2):\n",
    "     s += 4 * f(a + i * h)\n",
    " for i in range(2, 2*n-1, 2):\n",
    "     s += 2 * f(a + i * h)\n",
    " return s * h / 3\n",
    "\n",
    "p=7\n",
    "d=200\n",
    "f=lambda x:np.sin(x)**p\n",
    "area=simpson(f,0,np.pi/2,d)\n",
    "print(area)"
   ]
  },
  {
   "cell_type": "markdown",
   "metadata": {},
   "source": [
    "## uppgift 3: Jämförelse med Trapetsregel och Simpsons Regeln\n",
    "\n",
    "Er uppgift är att jämföra beräkningar på olika värden av $n$ med Trapetsregeln och Simpsons regel. Använd gärna kod från uppgift 2 för Simpson regel och kod från arbetsboken om Trapetsregeln."
   ]
  },
  {
   "cell_type": "code",
   "execution_count": null,
   "metadata": {},
   "outputs": [],
   "source": [
    "#Kod som jämför beräkningar på olika värden på n med Trapetsregeln och Simpsons regel"
   ]
  },
  {
   "cell_type": "markdown",
   "metadata": {},
   "source": [
    "Kör cellen nedan $\\downarrow$"
   ]
  },
  {
   "cell_type": "code",
   "execution_count": 9,
   "metadata": {},
   "outputs": [
    {
     "name": "stdout",
     "output_type": "stream",
     "text": [
      "Svar:\n",
      " Elevsvar\n",
      "Elevsvar\n",
      "Elevsvar\n"
     ]
    }
   ],
   "source": [
    "if utv[1]==\"ej klar\":\n",
    "    del1=input(\"Hur upplever ni att det var att skriva koden för att jämförelsen med Trapetsregel och Simpsons Regel?    \")\n",
    "    del2=input(\"Vad tycker ni att ni lyckas bra med i eran kod?    \")\n",
    "    del3=input(\"Har ni förslag på förbättringar eller sätt ni skulle kunna utveckla koden?    \")\n",
    "    utv[1]=f\"{del1}\\n{del2}\\n{del3}\"\n",
    "    print (f\"\\n\\nSvar:\\n {utv[1]}\")\n",
    "    \n",
    "else :\n",
    "    print (f\"Svar:\\n {utv[1]}\")\n",
    "    "
   ]
  },
  {
   "cell_type": "markdown",
   "metadata": {},
   "source": [
    "## uppgift 4 Grafisk represenation\n",
    "\n",
    "1. Kommentera koden nedan.\n",
    "\n",
    "2. Lägg till er funktion.\n",
    "\n",
    "3. Lägg till så att även värdet av integralen visas i bilden.\n",
    "\n",
    "4. Fundera över hur koden skulle kunna förbättras eller vilka förändringar ni skulle vilja göra?"
   ]
  },
  {
   "cell_type": "code",
   "execution_count": null,
   "metadata": {},
   "outputs": [],
   "source": [
    "import numpy as np\n",
    "import matplotlib.pyplot as plt\n",
    "a=0\n",
    "b=np.pi/2\n",
    "X = np.linspace(a,b,60)\n",
    "\n",
    "f=lambda x:np.sin(x)**7\n",
    "\n",
    "y=f(X)\n",
    "plt.plot(X,y, color='red')\n",
    "x0=0\n",
    "x1=0\n",
    "x2=0\n",
    "n=2\n",
    "h=(b-a)/(2*n)\n",
    "f_0=0\n",
    "f_1=0\n",
    "f_2=0\n",
    "for i in range (0,n):\n",
    "    x0=a+i*2*h\n",
    "    x1=(a+h)+i*2*h\n",
    "    x2=(a+2*h)+i*2*h\n",
    "    f_0=f(x0)\n",
    "    f_1=f(x1)\n",
    "    f_2=f(x2)\n",
    "    #g är en funktion för interpoleringspolynomet som skapas för varje intervall\n",
    "    g=lambda z:f_0+((f_1-f_0)/h)*(z-x0)+((f_2+f_0-2*f_1)/(2*h**2))*(z-x0)*(z-x1)\n",
    "    T=np.linspace(x0,x1)\n",
    "    d=g(T)\n",
    "    plt.plot(T,d,color='blue')\n",
    "    T=np.linspace(x1,x2)\n",
    "    d=g(T)\n",
    "    plt.plot(T,d,color='blue')\n",
    "plt.savefig(\"plot.png\")\n"
   ]
  },
  {
   "cell_type": "markdown",
   "metadata": {},
   "source": [
    "## uppgift 6: Exit ticket\n",
    "\n",
    "1. Kör koden nedan $\\downarrow$\n",
    "2. Spara dokumenetet som en pdf- fil \n",
    "3. Lämna in"
   ]
  },
  {
   "cell_type": "code",
   "execution_count": null,
   "metadata": {},
   "outputs": [],
   "source": [
    "print(f\"{grupp} har svarat:\\n\")\n",
    "t1=time.time()\n",
    "tid=(t1-t0)/60\n",
    "for i in range (0,2):\n",
    "    print(f\"Fråga {i+1}: \\n{utv[i]}\\n\")\n",
    "print(f\"\\n\\nNi har tillsammans investerat {num*(round(tid))} minuter på att studera numerisk integration.\\n\\nBra jobbat!\")"
   ]
  },
  {
   "cell_type": "code",
   "execution_count": null,
   "metadata": {},
   "outputs": [],
   "source": []
  }
 ],
 "metadata": {
  "kernelspec": {
   "display_name": "Python 3",
   "language": "python",
   "name": "python3"
  },
  "language_info": {
   "codemirror_mode": {
    "name": "ipython",
    "version": 3
   },
   "file_extension": ".py",
   "mimetype": "text/x-python",
   "name": "python",
   "nbconvert_exporter": "python",
   "pygments_lexer": "ipython3",
   "version": "3.8.3"
  }
 },
 "nbformat": 4,
 "nbformat_minor": 4
}
