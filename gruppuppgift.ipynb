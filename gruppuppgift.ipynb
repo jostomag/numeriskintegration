{
 "cells": [
  {
   "cell_type": "markdown",
   "metadata": {},
   "source": [
    "# 1. Uppgift: Vilket koldioxidutsläpp genererar en livslängd på 72 år?\n",
    "\n",
    "Er uppgift är att beräkna det totala koldioxidutsläppet för en individ som levt mellan 1945-2017 med hjälp av Trapetsregeln och Simpsons Regel. Till er hjälp har ni 25 st mätvärden som anger utsläppshastighet per capita/år (1945, 1948,1951...2017). Ni har även en grafisk representation av dessa mätvärden. Ni startar med det land ni blivit tilldelade som grupp och avslutar med att göra beräkningar för alla länderna. Tänk på att även om arbetet sker i grupp så är det av stor vikt att alla förstår vad ni gör eftersom gruppens medlemmar indivduellt kommer göra en inspelning där man ska kunna förklara gruppens dokument. Under rubriken \"2. Mätdata\" finns den information ni behöver om länderna Albanien, Brunei, Finland, Nordkorea, Sverige och USA.\n",
    "\n",
    "### Gruppen ska tillsammans:\n",
    "\n",
    "$\\surd$Göra beräkningar för minst tre olika värden på $n$ ($n_1,n_2$ och $n_3$), tänk på att det ska gå att genomföra beräkningarna för samma $n_1-n_3$för både Trapetsregeln och Simpsons regel. $n_3$ ska var det maximala värdet som är möjligt på $n$ utifrån de mätvärden ni har tillgång till.\n",
    "  \n",
    "$\\bullet$ Innan ni gör beräkningarna uppskatta utifrån den grafiska representationen av mätvärdena hur ni tror uppskattningen kommer bli för $n_1-n_3$ i förhållande till det faktiska värdet. Rita gärna i grafen. Vad är $h$, $a$ och $b$?<br/><br/>\n",
    "$\\bullet$ Gör beräkningarna för $n_1$ och $n_2$, spara era anteckningar så ni kan bifoga dem till inlämningen.<br/><br/>\n",
    "$\\bullet$Implementera i Python för värdet på $n_3$. Ni får givetvis gärna göra så programmet kan köra för olika värden på $n$ men det är inget krav. Återanvänd gärna kod från uppgifterna vi arbetat med i arbetsboken om Trapetsregeln och Simpsons Regel.\n",
    "    \n",
    "$\\surd$Gör en jämförelse mellan (åtminstonde) länderna som finns under rubrikerna 2.1-2.6 för $n_3$. Ni får gärna välja egna länder som ni tycker känns relevanta eller intressanta istället för dessa länder (men då måste ni plocka fram mätdata själva via \n",
    "[Our World in Data](https://ourworldindata.org/co2/country/sweden?country=~SWE).\n",
    "\n",
    "$\\surd$ Presentera era resultat och beräkningar på ett tydligt sätt.\n",
    "\n",
    "\n",
    "För den som är lite ihärdig och nyfiken finns möjligheter att räkna ut ett \"facit\" via [Our World in Data](https://ourworldindata.org/co2/country/sweden?country=~SWE)\n",
    "\n",
    "\n",
    "### Individuellt:\n",
    "Göra en inspelning där du förklarar det resultat och reflektioner ni som grupp presenterar i ert dokument.Tänk på att:<br/><br/>\n",
    "$\\surd$ Förklara varför ni valt de värden ni valt på $n_1-n_3$ och vad de olika variablerna $h$,$a$ och $b$ betyder i era beräkningar.<br/><br/>\n",
    "$\\surd$ Motivera uppskattningen av resulaten med hjälp av grafen utifrån de faktsika värdena.<br/><br/>\n",
    "$\\surd$ Motivera och förklara hur ni gjort olika beräkningar.<br/><br/>\n",
    "$\\surd$ Förklara hur koden i Python fungerar.<br/><br/>\n",
    "$\\surd$ Finns det sätt du kan tänka på som skulle kunna förbättre er kod eller utveckla den.<br/><br/>\n",
    "$\\surd$ Övriga synpunkter eller ideer om utveckling av beräkningarna.\n",
    "\n",
    "\n",
    "\n",
    "\n"
   ]
  },
  {
   "cell_type": "markdown",
   "metadata": {},
   "source": [
    "# 2. Mätdata: Albanien, Brunei, Finland, Nordkorea, Sverige och USA."
   ]
  },
  {
   "cell_type": "markdown",
   "metadata": {},
   "source": [
    "<img src=\"alla1.PNG\" width=\"1000\">\n"
   ]
  },
  {
   "cell_type": "code",
   "execution_count": 1,
   "metadata": {},
   "outputs": [
    {
     "name": "stdout",
     "output_type": "stream",
     "text": [
      "    Albanien  Brunei  Finland  Nordkorea  Sverige    USA\n",
      "0       0.10   23.42     0.17       0.10     0.69  16.46\n",
      "1       0.57    1.87     2.16       0.14     4.50  17.18\n",
      "2       0.31    5.89     1.97       0.10     4.73  16.24\n",
      "3       0.36    5.98     2.18       0.48     4.78  14.72\n",
      "4       1.00    4.19     2.83       1.07     5.29  15.91\n",
      "5       1.24    4.07     3.40       2.08     6.57  15.47\n",
      "6       1.16    3.78     4.27       2.72     7.25  15.99\n",
      "7       1.31    4.59     6.44       3.70     9.29  17.63\n",
      "8       1.54    3.93     8.24       4.57    10.79  19.37\n",
      "9       2.50   66.57     9.48       5.89    10.42  21.37\n",
      "10      1.90   43.67     9.75       6.61     9.85  20.09\n",
      "11      2.52   52.67    10.89       6.36     9.60  21.68\n",
      "12      2.68    7.35    10.69       6.95     8.34  19.56\n",
      "13      2.69    8.79     8.62       7.24     6.87  18.75\n",
      "14      2.38   13.93    11.63       9.04     7.09  19.10\n",
      "15      1.68   23.89    11.40       6.03     6.71  20.31\n",
      "16      0.73   17.61    11.11       4.46     6.56  20.35\n",
      "17      0.65   15.55    12.47       3.24     7.13  20.96\n",
      "18      0.96   11.67    11.38       2.82     6.29  20.93\n",
      "19      1.20   12.26    12.48       2.94     6.34  20.69\n",
      "20      1.38   13.39    10.85       3.13     5.95  20.78\n",
      "21      1.46   23.72    11.02       2.89     5.48  19.43\n",
      "22      1.79   29.23    10.50       1.97     5.16  17.88\n",
      "23      1.89   21.77     8.73       1.22     4.45  17.49\n",
      "24      1.61   17.91     8.11       1.12     4.25  16.21\n",
      "\n",
      "\n",
      "\n",
      "Ett litet tips! Glöm inte att första elementet i en lista är 0, så första mätvärdet (0) för Albaninen är 0.1\n"
     ]
    }
   ],
   "source": [
    "import pandas as pd\n",
    "import numpy as np\n",
    "\n",
    "#om man inte vill använda alla kolumner från excelfilen går det att använda usecols och välja kolumner som ska importeras.\n",
    "cols=[1,2,3,4,5,6] \n",
    "\n",
    "#importerar data från excel filen lander och usecol anger vilka kolumner som ska visas\n",
    "df = pd.read_excel (r'lander.xlsx', usecols=cols)\n",
    "print (df)\n",
    "\n",
    "#Listor med mätvärden för de olika länderna\n",
    "\n",
    "Alblista=df['Albanien'] \n",
    "Brulista=df['Brunei'] \n",
    "Finlista=df['Finland'] \n",
    "Norlista=df['Nordkorea'] \n",
    "Svelista=df['Sverige'] \n",
    "USAlista=df['USA'] \n",
    "\n",
    "#Tänk på att första elementet i en lista är 0\n",
    "print (f\"\\n\\n\\nEtt litet tips! Glöm inte att första elementet i en lista är 0, så första mätvärdet (0) för Albaninen är {Alblista[0]}\")\n"
   ]
  },
  {
   "cell_type": "markdown",
   "metadata": {},
   "source": [
    "## 2.1 Albanien"
   ]
  },
  {
   "cell_type": "markdown",
   "metadata": {},
   "source": [
    "<img src=\"alb.png\" width=\"500\">"
   ]
  },
  {
   "cell_type": "code",
   "execution_count": 2,
   "metadata": {},
   "outputs": [
    {
     "name": "stdout",
     "output_type": "stream",
     "text": [
      "0     0.10\n",
      "1     0.57\n",
      "2     0.31\n",
      "3     0.36\n",
      "4     1.00\n",
      "5     1.24\n",
      "6     1.16\n",
      "7     1.31\n",
      "8     1.54\n",
      "9     2.50\n",
      "10    1.90\n",
      "11    2.52\n",
      "12    2.68\n",
      "13    2.69\n",
      "14    2.38\n",
      "15    1.68\n",
      "16    0.73\n",
      "17    0.65\n",
      "18    0.96\n",
      "19    1.20\n",
      "20    1.38\n",
      "21    1.46\n",
      "22    1.79\n",
      "23    1.89\n",
      "24    1.61\n",
      "Name: Albanien, dtype: float64\n"
     ]
    }
   ],
   "source": [
    "print (Alblista)"
   ]
  },
  {
   "cell_type": "markdown",
   "metadata": {},
   "source": [
    "## 2.2 Brunei"
   ]
  },
  {
   "cell_type": "markdown",
   "metadata": {},
   "source": [
    "<img src=\"brunei.png\" width=\"500\">"
   ]
  },
  {
   "cell_type": "code",
   "execution_count": 3,
   "metadata": {},
   "outputs": [
    {
     "name": "stdout",
     "output_type": "stream",
     "text": [
      "0     23.42\n",
      "1      1.87\n",
      "2      5.89\n",
      "3      5.98\n",
      "4      4.19\n",
      "5      4.07\n",
      "6      3.78\n",
      "7      4.59\n",
      "8      3.93\n",
      "9     66.57\n",
      "10    43.67\n",
      "11    52.67\n",
      "12     7.35\n",
      "13     8.79\n",
      "14    13.93\n",
      "15    23.89\n",
      "16    17.61\n",
      "17    15.55\n",
      "18    11.67\n",
      "19    12.26\n",
      "20    13.39\n",
      "21    23.72\n",
      "22    29.23\n",
      "23    21.77\n",
      "24    17.91\n",
      "Name: Brunei, dtype: float64\n"
     ]
    }
   ],
   "source": [
    "print (Brulista)"
   ]
  },
  {
   "cell_type": "markdown",
   "metadata": {},
   "source": [
    "## 2.3 Finland"
   ]
  },
  {
   "cell_type": "markdown",
   "metadata": {},
   "source": [
    "<img src=\"fin2.png\" width=\"500\">"
   ]
  },
  {
   "cell_type": "code",
   "execution_count": null,
   "metadata": {},
   "outputs": [],
   "source": [
    "print (Finlista)"
   ]
  },
  {
   "cell_type": "markdown",
   "metadata": {},
   "source": [
    "## 2.4 Nordkorea"
   ]
  },
  {
   "cell_type": "markdown",
   "metadata": {},
   "source": [
    "<img src=\"nord.png\" width=\"500\">"
   ]
  },
  {
   "cell_type": "code",
   "execution_count": null,
   "metadata": {},
   "outputs": [],
   "source": [
    "print (Norlista)"
   ]
  },
  {
   "cell_type": "markdown",
   "metadata": {},
   "source": [
    "## 2.5 Sverige"
   ]
  },
  {
   "cell_type": "markdown",
   "metadata": {},
   "source": [
    "<img src=\"sverige.png\" width=\"500\">"
   ]
  },
  {
   "cell_type": "code",
   "execution_count": null,
   "metadata": {},
   "outputs": [],
   "source": [
    "print (Svelista)"
   ]
  },
  {
   "cell_type": "markdown",
   "metadata": {},
   "source": [
    "## 2.6 USA"
   ]
  },
  {
   "cell_type": "markdown",
   "metadata": {},
   "source": [
    "<img src=\"usa.png\" width=\"500\">"
   ]
  },
  {
   "cell_type": "code",
   "execution_count": null,
   "metadata": {},
   "outputs": [],
   "source": [
    "print (USAlista)"
   ]
  },
  {
   "cell_type": "code",
   "execution_count": null,
   "metadata": {},
   "outputs": [],
   "source": []
  }
 ],
 "metadata": {
  "kernelspec": {
   "display_name": "Python 3",
   "language": "python",
   "name": "python3"
  },
  "language_info": {
   "codemirror_mode": {
    "name": "ipython",
    "version": 3
   },
   "file_extension": ".py",
   "mimetype": "text/x-python",
   "name": "python",
   "nbconvert_exporter": "python",
   "pygments_lexer": "ipython3",
   "version": "3.8.3"
  }
 },
 "nbformat": 4,
 "nbformat_minor": 4
}
